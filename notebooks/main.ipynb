{
 "cells": [
  {
   "cell_type": "markdown",
   "metadata": {},
   "source": [
    "# Libraries"
   ]
  },
  {
   "cell_type": "code",
   "execution_count": 1,
   "metadata": {},
   "outputs": [],
   "source": [
    "# %cd /users/keimy/git/JOIR_age\n",
    "\n",
    "# !pip install -r requirements_20221118.txt\n",
    "# !pip install pandas\n",
    "\n",
    "# # pytorchをダウンロードし直す\n",
    "# !pip uninstall torch torchvision torchaudio -y\n",
    "# !pip install --pre torch torchvision torchaudio --extra-index-url https://download.pytorch.org/whl/nightly/cpu"
   ]
  },
  {
   "cell_type": "code",
   "execution_count": 3,
   "metadata": {},
   "outputs": [],
   "source": [
    "import numpy as np\n",
    "import pandas as pd\n",
    "\n",
    "import torch\n",
    "import torchvision.transforms as transforms\n",
    "import torch.utils.data as data\n",
    "import timm\n",
    "\n",
    "from PIL import Image\n",
    "from tqdm.notebook import tqdm\n",
    "\n",
    "# 乱数固定化の定義\n",
    "def torch_seed(seed=1):\n",
    "    torch.manual_seed(seed)\n",
    "    torch.cuda.manual_seed(seed)\n",
    "    torch.backends.cudnn.deterministic = True\n",
    "    torch.use_deterministic_algorithms = True\n"
   ]
  },
  {
   "cell_type": "markdown",
   "metadata": {},
   "source": [
    "# Loading model"
   ]
  },
  {
   "cell_type": "code",
   "execution_count": 4,
   "metadata": {},
   "outputs": [
    {
     "data": {
      "text/plain": [
       "True"
      ]
     },
     "execution_count": 4,
     "metadata": {},
     "output_type": "execute_result"
    }
   ],
   "source": [
    "torch.backends.mps.is_available()"
   ]
  },
  {
   "cell_type": "code",
   "execution_count": 5,
   "metadata": {},
   "outputs": [
    {
     "name": "stderr",
     "output_type": "stream",
     "text": [
      "/opt/miniconda3/envs/joir/lib/python3.8/site-packages/torch/functional.py:513: UserWarning: torch.meshgrid: in an upcoming release, it will be required to pass the indexing argument. (Triggered internally at /Users/runner/work/pytorch/pytorch/pytorch/aten/src/ATen/native/TensorShape.cpp:3610.)\n",
      "  return _VF.meshgrid(tensors, **kwargs)  # type: ignore[attr-defined]\n",
      "/var/folders/lm/x817mz9j3dd69gvsjyjmyhcr0000gn/T/ipykernel_22858/4057488356.py:16: FutureWarning: You are using `torch.load` with `weights_only=False` (the current default value), which uses the default pickle module implicitly. It is possible to construct malicious pickle data which will execute arbitrary code during unpickling (See https://github.com/pytorch/pytorch/blob/main/SECURITY.md#untrusted-models for more details). In a future release, the default value for `weights_only` will be flipped to `True`. This limits the functions that could be executed during unpickling. Arbitrary objects will no longer be allowed to be loaded via this mode unless they are explicitly allowlisted by the user via `torch.serialization.add_safe_globals`. We recommend you start setting `weights_only=True` for any use case where you don't have full control of the loaded file. Please open an issue on GitHub for any issues related to this experimental feature.\n",
      "  model.load_state_dict(torch.load(model_path, map_location=torch.device('cpu')))\n"
     ]
    },
    {
     "data": {
      "text/plain": [
       "<All keys matched successfully>"
      ]
     },
     "execution_count": 5,
     "metadata": {},
     "output_type": "execute_result"
    }
   ],
   "source": [
    "# モデル枠組み読み込み\n",
    "model = timm.create_model(model_name='swin_base_patch4_window12_384', num_classes=1, pretrained=False)\n",
    "\n",
    "# GPU使用する場合\n",
    "# device = torch.device(\"cuda:0\" if torch.cuda.is_available() else \"cpu\")\n",
    "device = torch.device(\"mps\" if torch.backends.mps.is_available() else \"cpu\")\n",
    "\n",
    "model = model.to(device)\n",
    "\n",
    "# 学習済みモデル読み込み\n",
    "model_path = 'model_20220903.pth'\n",
    "\n",
    "# GPU使用する場合\n",
    "# model.load_state_dict(torch.load(model_path))\n",
    "# CPUで妥協\n",
    "model.load_state_dict(torch.load(model_path, map_location=torch.device('cpu')))"
   ]
  },
  {
   "cell_type": "markdown",
   "metadata": {},
   "source": [
    "# Inference (sample images)"
   ]
  },
  {
   "cell_type": "code",
   "execution_count": 6,
   "metadata": {},
   "outputs": [
    {
     "data": {
      "application/json": {
       "ascii": false,
       "bar_format": null,
       "colour": null,
       "elapsed": 0.014361858367919922,
       "initial": 0,
       "n": 0,
       "ncols": null,
       "nrows": null,
       "postfix": null,
       "prefix": "",
       "rate": null,
       "total": 2,
       "unit": "it",
       "unit_divisor": 1000,
       "unit_scale": false
      },
      "application/vnd.jupyter.widget-view+json": {
       "model_id": "2aa4049c4a34490fa6832f4d36c69d64",
       "version_major": 2,
       "version_minor": 0
      },
      "text/plain": [
       "  0%|          | 0/2 [00:00<?, ?it/s]"
      ]
     },
     "metadata": {},
     "output_type": "display_data"
    },
    {
     "name": "stdout",
     "output_type": "stream",
     "text": [
      "[[49.743153]\n",
      " [39.084404]]\n"
     ]
    }
   ],
   "source": [
    "import glob\n",
    "\n",
    "# img_list = ['test1.jpg', 'test2.jpg']\n",
    "img_list = glob.glob('datasets/figures/*.jpg')\n",
    "\n",
    "# imageNetに合わせた画像の正規化\n",
    "mean = (0.485, 0.456, 0.406)\n",
    "std = (0.229, 0.224, 0.225)\n",
    "\n",
    "# transformの定義\n",
    "transform = transforms.Compose([\n",
    "    transforms.ToTensor(),\n",
    "    transforms.Normalize(mean,std),\n",
    "])\n",
    "\n",
    "# Datasetクラスの作成\n",
    "class Dataset(data.Dataset):\n",
    "    def __init__(self, img_list, transform=None):\n",
    "        self.img_list = img_list\n",
    "        self.transform = transform\n",
    "    \n",
    "    def __len__(self):\n",
    "        return len(self.img_list)\n",
    "    \n",
    "    def __getitem__(self, index):\n",
    "        img_path = self.img_list[index]\n",
    "        img = Image.open(img_path)\n",
    "        img = self.transform(img)   \n",
    "        return img\n",
    "\n",
    "# Datasetの作成\n",
    "dataset = Dataset(\n",
    "    img_list=img_list, transform=transform\n",
    ")\n",
    "\n",
    "# Dataloaderの作成\n",
    "# batch sizeはGPU(CPU)性能に応じて適宜変更して下さい\n",
    "loader = data.DataLoader(\n",
    "    dataset, batch_size=1, shuffle=False\n",
    ")\n",
    "\n",
    "# 乱数固定化\n",
    "torch_seed()\n",
    "\n",
    "# 年齢予測\n",
    "pred_r = []\n",
    "\n",
    "model.eval()\n",
    "with torch.no_grad():\n",
    "    for inputs in tqdm(loader):\n",
    "        inputs = inputs.to(device)\n",
    "        outputs = model(inputs)\n",
    "        pred_r.append(outputs.data.cpu().numpy())\n",
    "        \n",
    "pred = np.concatenate(pred_r)\n",
    "\n",
    "# 結果出力\n",
    "print(pred)"
   ]
  },
  {
   "cell_type": "markdown",
   "metadata": {},
   "source": [
    "# Inference (private images)\n",
    "\n",
    "1000枚で2分くらい。CPUで。"
   ]
  },
  {
   "cell_type": "code",
   "execution_count": 11,
   "metadata": {},
   "outputs": [
    {
     "name": "stderr",
     "output_type": "stream",
     "text": [
      "100%|██████████| 1000/1000 [02:21<00:00,  7.09it/s]\n"
     ]
    }
   ],
   "source": [
    "import torchvision.transforms as transforms\n",
    "from PIL import Image\n",
    "from tqdm import tqdm\n",
    "import pandas as pd\n",
    "\n",
    "\n",
    "# 画像データに対する正規化\n",
    "mean = (0.485, 0.456, 0.406)\n",
    "std = (0.229, 0.224, 0.225)\n",
    "\n",
    "# transformの定義（リサイズ + 正規化）\n",
    "transform = transforms.Compose([\n",
    "    transforms.ToPILImage(),  # numpy -> PIL.Image\n",
    "    transforms.Resize((384, 384)),  # 画像サイズをモデルに合わせてリサイズ\n",
    "    transforms.ToTensor(),  # PIL.Image -> Tensor\n",
    "    transforms.Normalize(mean, std),  # 正規化\n",
    "])\n",
    "\n",
    "data = np.load(\"datasets/mini_fundus_images.npy\" , allow_pickle=True)\n",
    "id_list = data[\"ID\"]\n",
    "laterality_list = data[\"laterality\"]\n",
    "image_list = data[\"image\"]\n",
    "\n",
    "\n",
    "pred_list = []\n",
    "model.eval()\n",
    "for img in tqdm(image_list):\n",
    "    img = transform(img)\n",
    "    # バッチ次元を追加し、デバイスに転送\n",
    "    img = img.unsqueeze(0).to(device)\n",
    "    output = model(img)\n",
    "    pred_list.append(float(output.item()))\n",
    "\n",
    "\n",
    "df = pd.DataFrame({\n",
    "    \"ID\": id_list,\n",
    "    \"laterality\": laterality_list,\n",
    "    \"pred_age\": pred_list\n",
    "})\n",
    "\n",
    "df.to_csv(\"outputs/pred_age.csv\", index=False)\n",
    "df.head()"
   ]
  },
  {
   "cell_type": "markdown",
   "metadata": {},
   "source": [
    "leagcy"
   ]
  },
  {
   "cell_type": "code",
   "execution_count": null,
   "metadata": {},
   "outputs": [],
   "source": [
    "import torch\n",
    "import numpy as np\n",
    "from torchvision import transforms\n",
    "from PIL import Image\n",
    "from tqdm import tqdm\n",
    "\n",
    "# 画像データに対する正規化\n",
    "mean = (0.485, 0.456, 0.406)\n",
    "std = (0.229, 0.224, 0.225)\n",
    "\n",
    "# transformの定義（リサイズ + 正規化）\n",
    "transform = transforms.Compose([\n",
    "    transforms.ToPILImage(),  # numpy -> PIL.Image\n",
    "    transforms.Resize((384, 384)),  # モデルに合わせてリサイズ\n",
    "    transforms.ToTensor(),  # PIL.Image -> Tensor\n",
    "    transforms.Normalize(mean, std),  # 正規化\n",
    "])\n",
    "\n",
    "# データ読み込み\n",
    "data = np.load(\"datasets/mini_fundus_images.npy\", allow_pickle=True)\n",
    "image_list = data[\"image\"]\n",
    "\n",
    "# 画像をすべて変換\n",
    "transformed_images = torch.stack([transform(img) for img in tqdm(image_list)])  # shape: (N, C, H, W)\n",
    "\n",
    "# バッチ処理\n",
    "batch_size = 32  # 適切なバッチサイズを設定\n",
    "loader = torch.utils.data.DataLoader(transformed_images, batch_size=batch_size, shuffle=False)\n",
    "\n",
    "# 推論\n",
    "pred_list = []\n",
    "model.eval()\n",
    "with torch.no_grad():\n",
    "    for batch in tqdm(loader):\n",
    "        batch = batch.to(device)\n",
    "        outputs = model(batch)\n",
    "        pred_list.extend(outputs.squeeze().cpu().tolist())  # バッチ内の結果をリストに追加\n",
    "\n",
    "print(pred_list)\n"
   ]
  },
  {
   "cell_type": "code",
   "execution_count": null,
   "metadata": {},
   "outputs": [],
   "source": []
  },
  {
   "cell_type": "code",
   "execution_count": null,
   "metadata": {},
   "outputs": [],
   "source": []
  },
  {
   "cell_type": "code",
   "execution_count": null,
   "metadata": {},
   "outputs": [],
   "source": []
  }
 ],
 "metadata": {
  "kernelspec": {
   "display_name": "joir",
   "language": "python",
   "name": "python3"
  },
  "language_info": {
   "codemirror_mode": {
    "name": "ipython",
    "version": 3
   },
   "file_extension": ".py",
   "mimetype": "text/x-python",
   "name": "python",
   "nbconvert_exporter": "python",
   "pygments_lexer": "ipython3",
   "version": "3.8.20"
  }
 },
 "nbformat": 4,
 "nbformat_minor": 2
}
