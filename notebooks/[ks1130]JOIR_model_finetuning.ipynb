{
 "cells": [
  {
   "cell_type": "markdown",
   "metadata": {},
   "source": [
    "# Libraries"
   ]
  },
  {
   "cell_type": "code",
   "execution_count": 8,
   "metadata": {},
   "outputs": [],
   "source": [
    "# %cd /users/keimy/git/JOIR_age\n",
    "\n",
    "# !pip install torch==1.9.0 torchvision==0.10.0 numpy==1.22.1 pillow==9.0.0 tqdm==4.62.3 ipywidgets==8.0.2 timm==0.5.4\n",
    "# !pip install pandas\n",
    "# !pip install matplotlib\n"
   ]
  },
  {
   "cell_type": "code",
   "execution_count": 1,
   "metadata": {},
   "outputs": [
    {
     "name": "stdout",
     "output_type": "stream",
     "text": [
      "/Users/keimy/git/JOIR_age\n"
     ]
    }
   ],
   "source": [
    "%cd /users/keimy/git/JOIR_age\n",
    "\n",
    "# !pip install -r requirements_20221118.txt\n",
    "# !pip install pandas\n",
    "# !pip install matplotlib\n",
    "# !pip install scikit-learn\n",
    "\n",
    "# # pytorchをダウンロードし直す\n",
    "# !pip uninstall torch torchvision torchaudio -y\n",
    "# !pip install --pre torch torchvision torchaudio --extra-index-url https://download.pytorch.org/whl/nightly/cpu"
   ]
  },
  {
   "cell_type": "code",
   "execution_count": 2,
   "metadata": {},
   "outputs": [],
   "source": [
    "import numpy as np\n",
    "import pandas as pd\n",
    "\n",
    "import torch\n",
    "import torchvision.transforms as transforms\n",
    "import torch.utils.data as data\n",
    "import timm\n",
    "\n",
    "from PIL import Image\n",
    "from tqdm.notebook import tqdm\n",
    "\n",
    "# 乱数固定化の定義\n",
    "def torch_seed(seed=1):\n",
    "    torch.manual_seed(seed)\n",
    "    torch.cuda.manual_seed(seed)\n",
    "    torch.backends.cudnn.deterministic = True\n",
    "    torch.use_deterministic_algorithms = True\n"
   ]
  },
  {
   "cell_type": "markdown",
   "metadata": {},
   "source": [
    "# Loading model"
   ]
  },
  {
   "cell_type": "code",
   "execution_count": 3,
   "metadata": {},
   "outputs": [
    {
     "data": {
      "text/plain": [
       "True"
      ]
     },
     "execution_count": 3,
     "metadata": {},
     "output_type": "execute_result"
    }
   ],
   "source": [
    "torch.backends.mps.is_available()"
   ]
  },
  {
   "cell_type": "code",
   "execution_count": 7,
   "metadata": {},
   "outputs": [
    {
     "name": "stderr",
     "output_type": "stream",
     "text": [
      "/var/folders/lm/x817mz9j3dd69gvsjyjmyhcr0000gn/T/ipykernel_28960/3256558213.py:16: FutureWarning: You are using `torch.load` with `weights_only=False` (the current default value), which uses the default pickle module implicitly. It is possible to construct malicious pickle data which will execute arbitrary code during unpickling (See https://github.com/pytorch/pytorch/blob/main/SECURITY.md#untrusted-models for more details). In a future release, the default value for `weights_only` will be flipped to `True`. This limits the functions that could be executed during unpickling. Arbitrary objects will no longer be allowed to be loaded via this mode unless they are explicitly allowlisted by the user via `torch.serialization.add_safe_globals`. We recommend you start setting `weights_only=True` for any use case where you don't have full control of the loaded file. Please open an issue on GitHub for any issues related to this experimental feature.\n",
      "  model.load_state_dict(torch.load(model_path, map_location=device))\n"
     ]
    },
    {
     "data": {
      "text/plain": [
       "<All keys matched successfully>"
      ]
     },
     "execution_count": 7,
     "metadata": {},
     "output_type": "execute_result"
    }
   ],
   "source": [
    "# モデル枠組み読み込み\n",
    "model = timm.create_model(model_name='swin_base_patch4_window12_384', num_classes=1, pretrained=False)\n",
    "\n",
    "device = torch.device(\"mps\" if torch.backends.mps.is_available() else \"cpu\")\n",
    "model.to(device)\n",
    "\n",
    "# 学習済みモデル読み込み\n",
    "model_path = 'params/model_20220903.pth'\n",
    "model.load_state_dict(torch.load(model_path, map_location=device))\n",
    "# model.load_state_dict(torch.load(model_path))\n"
   ]
  },
  {
   "cell_type": "markdown",
   "metadata": {},
   "source": [
    "# Inference (sample images)"
   ]
  },
  {
   "cell_type": "code",
   "execution_count": 8,
   "metadata": {},
   "outputs": [
    {
     "data": {
      "application/json": {
       "ascii": false,
       "bar_format": null,
       "colour": null,
       "elapsed": 0.0054666996002197266,
       "initial": 0,
       "n": 0,
       "ncols": null,
       "nrows": null,
       "postfix": null,
       "prefix": "",
       "rate": null,
       "total": 2,
       "unit": "it",
       "unit_divisor": 1000,
       "unit_scale": false
      },
      "application/vnd.jupyter.widget-view+json": {
       "model_id": "e8b77c098b084779bb8fc57a4f4cb5a7",
       "version_major": 2,
       "version_minor": 0
      },
      "text/plain": [
       "  0%|          | 0/2 [00:00<?, ?it/s]"
      ]
     },
     "metadata": {},
     "output_type": "display_data"
    },
    {
     "name": "stdout",
     "output_type": "stream",
     "text": [
      "[[49.743153]\n",
      " [39.084404]]\n"
     ]
    }
   ],
   "source": [
    "import glob\n",
    "\n",
    "# img_list = ['test1.jpg', 'test2.jpg']\n",
    "img_list = glob.glob('datasets/figures/*.jpg')\n",
    "\n",
    "# imageNetに合わせた画像の正規化\n",
    "mean = (0.485, 0.456, 0.406)\n",
    "std = (0.229, 0.224, 0.225)\n",
    "\n",
    "# transformの定義\n",
    "transform = transforms.Compose([\n",
    "    transforms.ToTensor(),\n",
    "    transforms.Normalize(mean,std),\n",
    "])\n",
    "\n",
    "# Datasetクラスの作成\n",
    "class Dataset(data.Dataset):\n",
    "    def __init__(self, img_list, transform=None):\n",
    "        self.img_list = img_list\n",
    "        self.transform = transform\n",
    "    \n",
    "    def __len__(self):\n",
    "        return len(self.img_list)\n",
    "    \n",
    "    def __getitem__(self, index):\n",
    "        img_path = self.img_list[index]\n",
    "        img = Image.open(img_path)\n",
    "        img = self.transform(img)   \n",
    "        return img\n",
    "\n",
    "# Datasetの作成\n",
    "dataset = Dataset(\n",
    "    img_list=img_list, transform=transform\n",
    ")\n",
    "\n",
    "# Dataloaderの作成\n",
    "# batch sizeはGPU(CPU)性能に応じて適宜変更して下さい\n",
    "loader = data.DataLoader(\n",
    "    dataset, batch_size=1, shuffle=False\n",
    ")\n",
    "\n",
    "# 乱数固定化\n",
    "torch_seed()\n",
    "\n",
    "# 年齢予測\n",
    "pred_r = []\n",
    "\n",
    "model.eval()\n",
    "with torch.no_grad():\n",
    "    for inputs in tqdm(loader):\n",
    "        inputs = inputs.to(device)\n",
    "        outputs = model(inputs)\n",
    "        pred_r.append(outputs.data.cpu().numpy())\n",
    "        \n",
    "pred = np.concatenate(pred_r)\n",
    "\n",
    "# 結果出力\n",
    "print(pred)"
   ]
  },
  {
   "cell_type": "markdown",
   "metadata": {},
   "source": [
    "# Inference (private images)\n",
    "\n",
    "1000枚で2分くらい。CPUで。"
   ]
  },
  {
   "cell_type": "code",
   "execution_count": 9,
   "metadata": {},
   "outputs": [
    {
     "name": "stderr",
     "output_type": "stream",
     "text": [
      " 13%|█▎        | 129/1000 [00:14<01:41,  8.61it/s]\n"
     ]
    },
    {
     "ename": "KeyboardInterrupt",
     "evalue": "",
     "output_type": "error",
     "traceback": [
      "\u001b[0;31m---------------------------------------------------------------------------\u001b[0m",
      "\u001b[0;31mKeyboardInterrupt\u001b[0m                         Traceback (most recent call last)",
      "Cell \u001b[0;32mIn[9], line 28\u001b[0m\n\u001b[1;32m     26\u001b[0m model\u001b[38;5;241m.\u001b[39meval()\n\u001b[1;32m     27\u001b[0m \u001b[38;5;28;01mfor\u001b[39;00m img \u001b[38;5;129;01min\u001b[39;00m tqdm(image_list):\n\u001b[0;32m---> 28\u001b[0m     img \u001b[38;5;241m=\u001b[39m \u001b[43mtransform\u001b[49m\u001b[43m(\u001b[49m\u001b[43mimg\u001b[49m\u001b[43m)\u001b[49m\n\u001b[1;32m     29\u001b[0m     \u001b[38;5;66;03m# バッチ次元を追加し、デバイスに転送\u001b[39;00m\n\u001b[1;32m     30\u001b[0m     img \u001b[38;5;241m=\u001b[39m img\u001b[38;5;241m.\u001b[39munsqueeze(\u001b[38;5;241m0\u001b[39m)\u001b[38;5;241m.\u001b[39mto(device)\n",
      "File \u001b[0;32m/opt/miniconda3/envs/joir/lib/python3.8/site-packages/torchvision/transforms/transforms.py:95\u001b[0m, in \u001b[0;36mCompose.__call__\u001b[0;34m(self, img)\u001b[0m\n\u001b[1;32m     93\u001b[0m \u001b[38;5;28;01mdef\u001b[39;00m \u001b[38;5;21m__call__\u001b[39m(\u001b[38;5;28mself\u001b[39m, img):\n\u001b[1;32m     94\u001b[0m     \u001b[38;5;28;01mfor\u001b[39;00m t \u001b[38;5;129;01min\u001b[39;00m \u001b[38;5;28mself\u001b[39m\u001b[38;5;241m.\u001b[39mtransforms:\n\u001b[0;32m---> 95\u001b[0m         img \u001b[38;5;241m=\u001b[39m \u001b[43mt\u001b[49m\u001b[43m(\u001b[49m\u001b[43mimg\u001b[49m\u001b[43m)\u001b[49m\n\u001b[1;32m     96\u001b[0m     \u001b[38;5;28;01mreturn\u001b[39;00m img\n",
      "File \u001b[0;32m/opt/miniconda3/envs/joir/lib/python3.8/site-packages/torchvision/transforms/transforms.py:137\u001b[0m, in \u001b[0;36mToTensor.__call__\u001b[0;34m(self, pic)\u001b[0m\n\u001b[1;32m    129\u001b[0m \u001b[38;5;28;01mdef\u001b[39;00m \u001b[38;5;21m__call__\u001b[39m(\u001b[38;5;28mself\u001b[39m, pic):\n\u001b[1;32m    130\u001b[0m \u001b[38;5;250m    \u001b[39m\u001b[38;5;124;03m\"\"\"\u001b[39;00m\n\u001b[1;32m    131\u001b[0m \u001b[38;5;124;03m    Args:\u001b[39;00m\n\u001b[1;32m    132\u001b[0m \u001b[38;5;124;03m        pic (PIL Image or numpy.ndarray): Image to be converted to tensor.\u001b[39;00m\n\u001b[0;32m   (...)\u001b[0m\n\u001b[1;32m    135\u001b[0m \u001b[38;5;124;03m        Tensor: Converted image.\u001b[39;00m\n\u001b[1;32m    136\u001b[0m \u001b[38;5;124;03m    \"\"\"\u001b[39;00m\n\u001b[0;32m--> 137\u001b[0m     \u001b[38;5;28;01mreturn\u001b[39;00m \u001b[43mF\u001b[49m\u001b[38;5;241;43m.\u001b[39;49m\u001b[43mto_tensor\u001b[49m\u001b[43m(\u001b[49m\u001b[43mpic\u001b[49m\u001b[43m)\u001b[49m\n",
      "File \u001b[0;32m/opt/miniconda3/envs/joir/lib/python3.8/site-packages/torchvision/transforms/functional.py:168\u001b[0m, in \u001b[0;36mto_tensor\u001b[0;34m(pic)\u001b[0m\n\u001b[1;32m    166\u001b[0m \u001b[38;5;66;03m# handle PIL Image\u001b[39;00m\n\u001b[1;32m    167\u001b[0m mode_to_nptype \u001b[38;5;241m=\u001b[39m {\u001b[38;5;124m\"\u001b[39m\u001b[38;5;124mI\u001b[39m\u001b[38;5;124m\"\u001b[39m: np\u001b[38;5;241m.\u001b[39mint32, \u001b[38;5;124m\"\u001b[39m\u001b[38;5;124mI;16\u001b[39m\u001b[38;5;124m\"\u001b[39m \u001b[38;5;28;01mif\u001b[39;00m sys\u001b[38;5;241m.\u001b[39mbyteorder \u001b[38;5;241m==\u001b[39m \u001b[38;5;124m\"\u001b[39m\u001b[38;5;124mlittle\u001b[39m\u001b[38;5;124m\"\u001b[39m \u001b[38;5;28;01melse\u001b[39;00m \u001b[38;5;124m\"\u001b[39m\u001b[38;5;124mI;16B\u001b[39m\u001b[38;5;124m\"\u001b[39m: np\u001b[38;5;241m.\u001b[39mint16, \u001b[38;5;124m\"\u001b[39m\u001b[38;5;124mF\u001b[39m\u001b[38;5;124m\"\u001b[39m: np\u001b[38;5;241m.\u001b[39mfloat32}\n\u001b[0;32m--> 168\u001b[0m img \u001b[38;5;241m=\u001b[39m torch\u001b[38;5;241m.\u001b[39mfrom_numpy(\u001b[43mnp\u001b[49m\u001b[38;5;241;43m.\u001b[39;49m\u001b[43marray\u001b[49m\u001b[43m(\u001b[49m\u001b[43mpic\u001b[49m\u001b[43m,\u001b[49m\u001b[43m \u001b[49m\u001b[43mmode_to_nptype\u001b[49m\u001b[38;5;241;43m.\u001b[39;49m\u001b[43mget\u001b[49m\u001b[43m(\u001b[49m\u001b[43mpic\u001b[49m\u001b[38;5;241;43m.\u001b[39;49m\u001b[43mmode\u001b[49m\u001b[43m,\u001b[49m\u001b[43m \u001b[49m\u001b[43mnp\u001b[49m\u001b[38;5;241;43m.\u001b[39;49m\u001b[43muint8\u001b[49m\u001b[43m)\u001b[49m\u001b[43m,\u001b[49m\u001b[43m \u001b[49m\u001b[43mcopy\u001b[49m\u001b[38;5;241;43m=\u001b[39;49m\u001b[38;5;28;43;01mTrue\u001b[39;49;00m\u001b[43m)\u001b[49m)\n\u001b[1;32m    170\u001b[0m \u001b[38;5;28;01mif\u001b[39;00m pic\u001b[38;5;241m.\u001b[39mmode \u001b[38;5;241m==\u001b[39m \u001b[38;5;124m\"\u001b[39m\u001b[38;5;124m1\u001b[39m\u001b[38;5;124m\"\u001b[39m:\n\u001b[1;32m    171\u001b[0m     img \u001b[38;5;241m=\u001b[39m \u001b[38;5;241m255\u001b[39m \u001b[38;5;241m*\u001b[39m img\n",
      "File \u001b[0;32m/opt/miniconda3/envs/joir/lib/python3.8/site-packages/PIL/Image.py:675\u001b[0m, in \u001b[0;36mImage.__array__\u001b[0;34m(self, dtype)\u001b[0m\n\u001b[1;32m    673\u001b[0m     new[\u001b[38;5;124m\"\u001b[39m\u001b[38;5;124mdata\u001b[39m\u001b[38;5;124m\"\u001b[39m] \u001b[38;5;241m=\u001b[39m \u001b[38;5;28mself\u001b[39m\u001b[38;5;241m.\u001b[39mtobytes(\u001b[38;5;124m\"\u001b[39m\u001b[38;5;124mraw\u001b[39m\u001b[38;5;124m\"\u001b[39m, \u001b[38;5;124m\"\u001b[39m\u001b[38;5;124mL\u001b[39m\u001b[38;5;124m\"\u001b[39m)\n\u001b[1;32m    674\u001b[0m \u001b[38;5;28;01melse\u001b[39;00m:\n\u001b[0;32m--> 675\u001b[0m     new[\u001b[38;5;124m\"\u001b[39m\u001b[38;5;124mdata\u001b[39m\u001b[38;5;124m\"\u001b[39m] \u001b[38;5;241m=\u001b[39m \u001b[38;5;28;43mself\u001b[39;49m\u001b[38;5;241;43m.\u001b[39;49m\u001b[43mtobytes\u001b[49m\u001b[43m(\u001b[49m\u001b[43m)\u001b[49m\n\u001b[1;32m    677\u001b[0m \u001b[38;5;28;01mreturn\u001b[39;00m np\u001b[38;5;241m.\u001b[39marray(\u001b[38;5;28mself\u001b[39m\u001b[38;5;241m.\u001b[39m_ArrayData(new), dtype)\n",
      "\u001b[0;31mKeyboardInterrupt\u001b[0m: "
     ]
    }
   ],
   "source": [
    "import torchvision.transforms as transforms\n",
    "from PIL import Image\n",
    "from tqdm import tqdm\n",
    "import pandas as pd\n",
    "\n",
    "\n",
    "# 画像の正規化：ImageNetの平均と標準偏差\n",
    "mean = (0.485, 0.456, 0.406)\n",
    "std = (0.229, 0.224, 0.225)\n",
    "\n",
    "# transformの定義（リサイズ + 正規化）\n",
    "transform = transforms.Compose([\n",
    "    transforms.ToPILImage(),  # numpy -> PIL.Image\n",
    "    transforms.Resize((384, 384)),  # 画像サイズをモデルに合わせてリサイズ\n",
    "    transforms.ToTensor(),  # PIL.Image -> Tensor\n",
    "    transforms.Normalize(mean, std),  # 正規化\n",
    "])\n",
    "\n",
    "data = np.load(\"datasets/mini_fundus_images.npy\" , allow_pickle=True)\n",
    "id_list = data[\"ID\"]\n",
    "laterality_list = data[\"laterality\"]\n",
    "image_list = data[\"image\"]\n",
    "\n",
    "\n",
    "pred_list = []\n",
    "model.eval()\n",
    "for img in tqdm(image_list):\n",
    "    img = transform(img)\n",
    "    # バッチ次元を追加し、デバイスに転送\n",
    "    img = img.unsqueeze(0).to(device)\n",
    "    output = model(img)\n",
    "    pred_list.append(float(output.item()))\n",
    "\n",
    "\n",
    "df = pd.DataFrame({\n",
    "    \"ID\": id_list,\n",
    "    \"laterality\": laterality_list,\n",
    "    \"pred_age\": pred_list\n",
    "})\n",
    "\n",
    "df.to_csv(\"outputs/pred_age.csv\", index=False)\n",
    "df.head()"
   ]
  },
  {
   "cell_type": "markdown",
   "metadata": {},
   "source": [
    "leagcy"
   ]
  },
  {
   "cell_type": "code",
   "execution_count": null,
   "metadata": {},
   "outputs": [],
   "source": [
    "import torch\n",
    "import numpy as np\n",
    "from torchvision import transforms\n",
    "from PIL import Image\n",
    "from tqdm import tqdm\n",
    "\n",
    "# 画像データに対する正規化\n",
    "mean = (0.485, 0.456, 0.406)\n",
    "std = (0.229, 0.224, 0.225)\n",
    "\n",
    "# transformの定義（リサイズ + 正規化）\n",
    "transform = transforms.Compose([\n",
    "    transforms.ToPILImage(),  # numpy -> PIL.Image\n",
    "    transforms.Resize((384, 384)),  # モデルに合わせてリサイズ\n",
    "    transforms.ToTensor(),  # PIL.Image -> Tensor\n",
    "    transforms.Normalize(mean, std),  # 正規化\n",
    "])\n",
    "\n",
    "# データ読み込み\n",
    "data = np.load(\"datasets/mini_fundus_images.npy\", allow_pickle=True)\n",
    "image_list = data[\"image\"]\n",
    "\n",
    "# 画像をすべて変換\n",
    "transformed_images = torch.stack([transform(img) for img in tqdm(image_list)])  # shape: (N, C, H, W)\n",
    "\n",
    "# バッチ処理\n",
    "batch_size = 32  # 適切なバッチサイズを設定\n",
    "loader = torch.utils.data.DataLoader(transformed_images, batch_size=batch_size, shuffle=False)\n",
    "\n",
    "# 推論\n",
    "pred_list = []\n",
    "model.eval()\n",
    "with torch.no_grad():\n",
    "    for batch in tqdm(loader):\n",
    "        batch = batch.to(device)\n",
    "        outputs = model(batch)\n",
    "        pred_list.extend(outputs.squeeze().cpu().tolist())  # バッチ内の結果をリストに追加\n",
    "\n",
    "print(pred_list)\n"
   ]
  },
  {
   "cell_type": "markdown",
   "metadata": {},
   "source": [
    "# Visualize performance"
   ]
  },
  {
   "cell_type": "code",
   "execution_count": 22,
   "metadata": {},
   "outputs": [
    {
     "name": "stdout",
     "output_type": "stream",
     "text": [
      "/Users/keimy/git/Fundus2Age\n"
     ]
    }
   ],
   "source": [
    "%cd /users/keimy/git/Fundus2Age\n",
    "\n",
    "import pandas as pd\n",
    "import matplotlib.pyplot as plt\n",
    "import matplotlib\n",
    "matplotlib.rcParams['font.family'] = 'Arial'\n",
    "matplotlib.rcParams['font.weight'] = 'bold'\n",
    "matplotlib.rcParams['font.size'] = 15\n",
    "matplotlib.rcParams['figure.titlesize'] = 15\n",
    "# matplotlib.rcParams['font.style'] = 'italic'\n",
    "\n",
    "def count_samples(df):\n",
    "    n_kensa = len(df)\n",
    "    n_eye = df[[\"ID\", \"laterality\"]].drop_duplicates().shape[0]\n",
    "    n_patient = df[\"ID\"].nunique()\n",
    "    return n_kensa, n_eye, n_patient"
   ]
  },
  {
   "cell_type": "code",
   "execution_count": 12,
   "metadata": {},
   "outputs": [
    {
     "name": "stderr",
     "output_type": "stream",
     "text": [
      "/var/folders/lm/x817mz9j3dd69gvsjyjmyhcr0000gn/T/ipykernel_25179/2229274875.py:1: DtypeWarning: Columns (36,170) have mixed types. Specify dtype option on import or set low_memory=False.\n",
      "  df_train = pd.read_csv(\"outputs/kenshin_train.csv\")\n",
      "/var/folders/lm/x817mz9j3dd69gvsjyjmyhcr0000gn/T/ipykernel_25179/2229274875.py:2: DtypeWarning: Columns (35,36,170) have mixed types. Specify dtype option on import or set low_memory=False.\n",
      "  df_test = pd.read_csv(\"outputs/kenshin_test.csv\")\n"
     ]
    },
    {
     "data": {
      "text/plain": [
       "((30686, 30686, 19349), (9673, 9673, 8768), (1000, 925, 463))"
      ]
     },
     "execution_count": 12,
     "metadata": {},
     "output_type": "execute_result"
    }
   ],
   "source": [
    "df_train = pd.read_csv(\"outputs/kenshin_train.csv\")\n",
    "df_test = pd.read_csv(\"outputs/kenshin_test.csv\")\n",
    "df_joir = pd.read_csv(\"outputs/pred_age_joir.csv\")\n",
    "\n",
    "count_samples(df_train), count_samples(df_test), count_samples(df_joir)"
   ]
  },
  {
   "cell_type": "code",
   "execution_count": 14,
   "metadata": {},
   "outputs": [
    {
     "data": {
      "text/html": [
       "<div>\n",
       "<style scoped>\n",
       "    .dataframe tbody tr th:only-of-type {\n",
       "        vertical-align: middle;\n",
       "    }\n",
       "\n",
       "    .dataframe tbody tr th {\n",
       "        vertical-align: top;\n",
       "    }\n",
       "\n",
       "    .dataframe thead th {\n",
       "        text-align: right;\n",
       "    }\n",
       "</style>\n",
       "<table border=\"1\" class=\"dataframe\">\n",
       "  <thead>\n",
       "    <tr style=\"text-align: right;\">\n",
       "      <th></th>\n",
       "      <th>ID</th>\n",
       "      <th>laterality</th>\n",
       "      <th>pred_age</th>\n",
       "    </tr>\n",
       "  </thead>\n",
       "  <tbody>\n",
       "    <tr>\n",
       "      <th>0</th>\n",
       "      <td>20150422001</td>\n",
       "      <td>R</td>\n",
       "      <td>64.590858</td>\n",
       "    </tr>\n",
       "    <tr>\n",
       "      <th>1</th>\n",
       "      <td>20150422001</td>\n",
       "      <td>L</td>\n",
       "      <td>58.342815</td>\n",
       "    </tr>\n",
       "    <tr>\n",
       "      <th>2</th>\n",
       "      <td>20150511045</td>\n",
       "      <td>R</td>\n",
       "      <td>72.661087</td>\n",
       "    </tr>\n",
       "    <tr>\n",
       "      <th>3</th>\n",
       "      <td>20150511045</td>\n",
       "      <td>L</td>\n",
       "      <td>74.787987</td>\n",
       "    </tr>\n",
       "    <tr>\n",
       "      <th>4</th>\n",
       "      <td>20150709001</td>\n",
       "      <td>R</td>\n",
       "      <td>66.480438</td>\n",
       "    </tr>\n",
       "  </tbody>\n",
       "</table>\n",
       "</div>"
      ],
      "text/plain": [
       "            ID laterality   pred_age\n",
       "0  20150422001          R  64.590858\n",
       "1  20150422001          L  58.342815\n",
       "2  20150511045          R  72.661087\n",
       "3  20150511045          L  74.787987\n",
       "4  20150709001          R  66.480438"
      ]
     },
     "execution_count": 14,
     "metadata": {},
     "output_type": "execute_result"
    }
   ],
   "source": [
    "df_joir.head()"
   ]
  },
  {
   "cell_type": "code",
   "execution_count": 17,
   "metadata": {},
   "outputs": [
    {
     "data": {
      "text/plain": [
       "(40359, 40359, 22491)"
      ]
     },
     "execution_count": 17,
     "metadata": {},
     "output_type": "execute_result"
    }
   ],
   "source": [
    "# df_trainとdf_testではID, laterality, ageだけ残す\n",
    "cols_keep = [\"ID\", \"laterality\", \"age\"]\n",
    "df_train = df_train[cols_keep]\n",
    "df_test = df_test[cols_keep]\n",
    "\n",
    "# df_trainとdf_testを連結\n",
    "df_kenshin = pd.concat([df_train, df_test], axis=0)\n",
    "count_samples(df_kenshin)"
   ]
  },
  {
   "cell_type": "code",
   "execution_count": 20,
   "metadata": {},
   "outputs": [
    {
     "data": {
      "text/plain": [
       "(456, 448, 272)"
      ]
     },
     "execution_count": 20,
     "metadata": {},
     "output_type": "execute_result"
    }
   ],
   "source": [
    "# df_joirとdf_kenshinを結合　IDとlateralityで\n",
    "df = pd.merge(df_joir, df_kenshin, on=[\"ID\", \"laterality\"], how=\"inner\")\n",
    "\n",
    "count_samples(df)"
   ]
  },
  {
   "cell_type": "code",
   "execution_count": 25,
   "metadata": {},
   "outputs": [],
   "source": [
    "\n",
    "def plot_scatter(y_true, y_pred, target_name=None, save_path=None):\n",
    "    offset = 3\n",
    "\n",
    "    if target_name == \"MD_slope\":\n",
    "        min_, max_ = -2, 0\n",
    "    elif target_name == \"VFI_slope\":\n",
    "        min_, max_ = -4, 0\n",
    "    else:        \n",
    "        min_ = min(y_true.min(), y_pred.min())\n",
    "        max_ = max(y_true.max(), y_pred.max())\n",
    "\n",
    "    plt.figure(figsize= (3, 3))\n",
    "    plt.gca().set_aspect('equal', adjustable='box')\n",
    "\n",
    "    plt.scatter(y_pred, y_true, marker=\".\", color=\"blue\", s=10)\n",
    "\n",
    "    plt.plot(\n",
    "        [max_+offset, min_-offset],\n",
    "        [max_+offset, min_-offset],\n",
    "        color=\"darkorange\",\n",
    "        lw = 1,\n",
    "        linestyle=\"dashed\", \n",
    "        )\n",
    "    \n",
    "    plt.grid(alpha = 0.3)\n",
    "    plt.xlim(min_-offset, max_+offset)\n",
    "    plt.ylim(min_-offset, max_+offset)\n",
    "\n",
    "    plt.title(f\"{target_name}\", fontsize=15)\n",
    "    plt.xlabel(f\"Predicted\")\n",
    "    plt.ylabel(f\"True\")\n",
    "    # plt.legend(loc=\"lower right\")\n",
    "\n",
    "    # plt.tight_layout()\n",
    "    plt.subplots_adjust(left=0.27, right=0.9, top=0.95, bottom=0.1)\n",
    "    plt.savefig(f\"{save_path}/{target_name}_scatter.pdf\", transparent=True)"
   ]
  },
  {
   "cell_type": "code",
   "execution_count": 26,
   "metadata": {},
   "outputs": [
    {
     "name": "stdout",
     "output_type": "stream",
     "text": [
      "MAE: 5.99\n",
      "MSE: 85.64\n",
      "RMSE: 9.25\n"
     ]
    },
    {
     "data": {
      "image/png": "[encoded data removed]",
      "text/plain": [
       "<Figure size 300x300 with 1 Axes>"
      ]
     },
     "metadata": {},
     "output_type": "display_data"
    }
   ],
   "source": [
    "from sklearn.metrics import accuracy_score, mean_squared_error, mean_absolute_error\n",
    "\n",
    "true_ages = df[\"age\"].values\n",
    "pred_ages = df[\"pred_age\"].values\n",
    "\n",
    "true_ages, pred_ages = np.array(true_ages), np.array(pred_ages)\n",
    "\n",
    "mae = mean_absolute_error(true_ages, pred_ages)\n",
    "mse = mean_squared_error(true_ages, pred_ages)\n",
    "rmse = np.sqrt(mse)\n",
    "\n",
    "print(f\"MAE: {mae:.2f}\")\n",
    "print(f\"MSE: {mse:.2f}\")\n",
    "print(f\"RMSE: {rmse:.2f}\")\n",
    "\n",
    "plot_scatter(true_ages, pred_ages, target_name=\"Age\", save_path=\"figures\")"
   ]
  },
  {
   "cell_type": "code",
   "execution_count": null,
   "metadata": {},
   "outputs": [],
   "source": []
  },
  {
   "cell_type": "code",
   "execution_count": null,
   "metadata": {},
   "outputs": [],
   "source": []
  }
 ],
 "metadata": {
  "kernelspec": {
   "display_name": "joir",
   "language": "python",
   "name": "python3"
  },
  "language_info": {
   "codemirror_mode": {
    "name": "ipython",
    "version": 3
   },
   "file_extension": ".py",
   "mimetype": "text/x-python",
   "name": "python",
   "nbconvert_exporter": "python",
   "pygments_lexer": "ipython3",
   "version": "3.8.20"
  }
 },
 "nbformat": 4,
 "nbformat_minor": 2
}
